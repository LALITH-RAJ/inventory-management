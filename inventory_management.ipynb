{
  "nbformat": 4,
  "nbformat_minor": 0,
  "metadata": {
    "colab": {
      "name": "inventory management.ipynb",
      "provenance": [],
      "toc_visible": true
    },
    "kernelspec": {
      "name": "python3",
      "display_name": "Python 3"
    },
    "language_info": {
      "name": "python"
    }
  },
  "cells": [
    {
      "cell_type": "code",
      "metadata": {
        "id": "rejs_CnH0rCT"
      },
      "source": [
        "record = {\n",
        "    1001 : { \"item\": \"Pears\",\"Category\": \"Soap\", \"price\": 30, \"date-of-manufacture\": \"03-08-2021\", \"date-of-expiry\": \"03-08-2023\",\"inStock\": True, \"offer\": 10 },\n",
        "    1002 : { \"item\": \"Maida\",\"Category\": \"groceries\", \"price\": 90, \"date-of-manufacture\": \"06-07-2021\", \"date-of-expiry\": \"03-08-2023\",\"inStock\": True , \"offer\": 0 },\n",
        "    1003 : { \"item\": \"Bread\",\"Category\": \"\", \"Grain Product\": 15, \"date-of-manufacture\": \"01-09-2021\", \"date-of-expiry\": \"03-08-2023\", \"inStock\": True, \"offer\": 20 },\n",
        "    1004 : { \"item\": \"Milk\",\"Category\": \"Dairy\", \"price\" :30, \"date-of-manufacture\": \"03-09-2021\",  \"date-of-expiry\": \"03-08-2023\",\"inStock\": False, \"offer\": 18 },\n",
        "    1005 : { \"item\": \"Kitkat\",\"Category\": \"Chocolate\", \"price\": 25, \"date-of-manufacture\": \"29-08-2021\", \"date-of-expiry\": \"03-08-2022\", \"inStock\": True, \"offer\": 15 },\n",
        "    1006 : { \"item\": \"Maggi\",\"Category\": \"Instant Noodle\", \"price\": 12, \"date-of-manufacture\": \"20-08-2021\", \"date-of-expiry\": \"03-08-2022\", \"inStock\": True, \"offer\": 0 },\n",
        "    1007 : { \"item\": \"Butter\",\"Category\": \"Dairy\", \"price\": 50, \"date-of-manufacture\": \"31-08-2021\", \"date-of-expiry\": \"03-10-2021\", \"inStock\": True, \"offer\": 10 },\n",
        "    1008 : { \"item\": \"Deodrant\",\"Category\": \"Perfumes\", \"price\": 250, \"date-of-manufacture\": \"15-08-2021\", \"date-of-expiry\": \"03-08-2022\", \"inStock\": True, \"offer\": 18 },\n",
        "    1009 : { \"item\": \"Harpic\",\"Category\": \"Detergents\", \"price\": 99, \"date-of-manufacture\": \"05-08-2021\",  \"date-of-expiry\": \"03-08-2024\",\"inStock\": True, \"offer\": 33 },\n",
        "    10010 : { \"item\": \"Dettol\",\"Category\": \"Medical\", \"price\": 80, \"date-of-manufacture\": \"24-08-2021\", \"date-of-expiry\": \"03-08-2022\", \"inStock\": True, \"offer\": 0 },\n",
        "    10011 : { \"item\": \"Eggs\",\"Category\": \"Animal Product\", \"price\": 60, \"date-of-manufacture\": \"30-08-2021\",  \"date-of-expiry\": \"03-10-2021\",\"inStock\": True, \"offer\": 0 },\n",
        "    10012 : { \"item\": \"Pizza\",\"Category\": \"Fast Food\", \"price\": 180, \"date-of-manufacture\": \"02-09-2021\", \"date-of-expiry\": \"03-10-2021\", \"inStock\": True, \"offer\": 20 },\n",
        "    10013 : { \"item\": \"Wet wipes\",\"Category\": \"cleaning-accessories\", \"price\": 185, \"date-of-manufacture\": \"20-08-2021\", \"date-of-expiry\": \"03-08-2023\", \"inStock\": False, \"offer\": 20 },\n",
        "    10014 : { \"item\": \"Pepper\",\"Category\": \"cereals\", \"price\": 80, \"date-of-manufacture\": \"31-08-2021\", \"date-of-expiry\": \"03-08-2024\", \"inStock\": True, \"offer\": 0 },\n",
        "    10015 : { \"item\": \"Cookies\",\"Category\": \"Bakery-item\", \"price\": 30, \"date-of-manufacture\": \"17-08-2021\",  \"date-of-expiry\": \"03-08-2022\",\"inStock\": True, \"offer\": 5 },\n",
        "    10016 : { \"item\": \"Shampoo\",\"Category\": \"Toiletries\", \"price\": 58, \"date-of-manufacture\": \"07-08-2021\", \"date-of-expiry\": \"03-08-2024\", \"inStock\": True, \"offer\": 15 },\n",
        "    10017 : { \"item\": \"Tooth Paste\",\"Category\": \"Toiletries\", \"price\": 55, \"date-of-manufacture\": \"05-06-2021\", \"date-of-expiry\": \"03-08-2023\", \"inStock\": True, \"offer\": 23 },\n",
        "    10018 : { \"item\": \"Badam\",\"Category\": \"Dry-Fruits\", \"price\": 60, \"date-of-manufacture\": \"24-05-2021\",  \"date-of-expiry\": \"03-08-2025\",\"inStock\": True, \"offer\": 30 },\n",
        "    10019 : { \"item\": \"Face cream\",\"Category\": \"Cosmetic\", \"price\": 320, \"date-of-manufacture\": \"06-08-2021\", \"date-of-expiry\": \"03-08-2022\", \"inStock\": True, \"offer\": 15 },\n",
        "    10020 : { \"item\": \"Pedigree\",\"Category\": \"Pet-Foods\", \"price\": 680, \"date-of-manufacture\": \"08-04-2021\", \"date-of-expiry\": \"03-10-2021\", \"inStock\": False, \"offer\": 35 },\n",
        "    10021 : { \"item\": \"Cheese Slice\",\"Category\": \"Dairy\", \"price\": 60, \"date-of-manufacture\": \"01-09-2021\", \"date-of-expiry\": \"03-10-2021\", \"inStock\": True, \"offer\": 0 },\n",
        "    10022 : { \"item\": \"pan-Cakes\",\"Category\": \"Bakery\", \"price\": 55, \"date-of-manufacture\": \"29-08-2021\",  \"date-of-expiry\": \"03-08-2022\",\"inStock\": True, \"offer\": 20 },\n",
        "    10023 : { \"item\": \"Durito\",\"Category\": \"chocolate\", \"price\": 20, \"date-of-manufacture\": \"27-08-2021\", \"date-of-expiry\": \"03-08-2022\", \"inStock\": True, \"offer\": 0 },\n",
        "    10024 : { \"item\": \"Coffee Powder\",\"Category\": \"energetic-drinks\", \"price\": 56, \"date-of-manufacture\": \"24-07-2021\", \"date-of-expiry\": \"03-08-2024\", \"inStock\": True, \"offer\": 18 },\n",
        "    10025 : { \"item\": \"Mayo\",\"Category\": \"Dairy-Product\", \"price\": 30, \"date-of-manufacture\": \"24-02-2021\", \"date-of-expiry\": \"03-08-2022\", \"inStock\": True, \"offer\": 0 },\n",
        "    10026 : { \"item\": \"Nuttela\",\"Category\": \"Protein-Bar\", \"price\": 1200, \"date-of-manufacture\": \"25-08-2021\", \"date-of-expiry\": \"03-08-2022\", \"inStock\": True, \"offer\": 0 },\n",
        "    10027 : { \"item\": \"Mop\",\"Category\": \"Cleaning-essentials\", \"price\": 360, \"date-of-manufacture\": \"24-07-2021\", \"date-of-expiry\": \"03-08-2022\", \"inStock\": True, \"offer\": 0 },\n",
        "    10028 : { \"item\": \"Domex\",\"Category\": \"Datergents\", \"price\": 300, \"date-of-manufacture\": \"20-08-2021\", \"date-of-expiry\": \"03-08-2023\", \"inStock\": True, \"offer\": 13 },\n",
        "    10029 : { \"item\": \"Alovera Gell\",\"Category\": \"Cosmetic\", \"price\": 90, \"date-of-manufacture\": \"30-07-2021\", \"date-of-expiry\": \"03-08-2022\", \"inStock\": True, \"offer\": 15 },\n",
        "    10030 : { \"item\": \"Wipping Cream\",\"Category\": \"Dairy-Product\", \"price\": 1200, \"date-of-manufacture\": \"24-02-2021\",  \"date-of-expiry\": \"03-08-2021\",\"inStock\": True, \"offer\": 20 }\n",
        "}"
      ],
      "execution_count": 1,
      "outputs": []
    },
    {
      "cell_type": "code",
      "metadata": {
        "colab": {
          "base_uri": "https://localhost:8080/"
        },
        "id": "HevWcU9R8BkP",
        "outputId": "23b99cbb-d1ab-412d-896d-8656124e770a"
      },
      "source": [
        "for i in record:\n",
        "  print(i,\" = \",record[i])"
      ],
      "execution_count": 2,
      "outputs": [
        {
          "output_type": "stream",
          "name": "stdout",
          "text": [
            "1001  =  {'item': 'Pears', 'Category': 'Soap', 'price': 30, 'date-of-manufacture': '03-08-2021', 'date-of-expiry': '03-08-2023', 'inStock': True, 'offer': 10}\n",
            "1002  =  {'item': 'Maida', 'Category': 'groceries', 'price': 90, 'date-of-manufacture': '06-07-2021', 'date-of-expiry': '03-08-2023', 'inStock': True, 'offer': 0}\n",
            "1003  =  {'item': 'Bread', 'Category': '', 'Grain Product': 15, 'date-of-manufacture': '01-09-2021', 'date-of-expiry': '03-08-2023', 'inStock': True, 'offer': 20}\n",
            "1004  =  {'item': 'Milk', 'Category': 'Dairy', 'price': 30, 'date-of-manufacture': '03-09-2021', 'date-of-expiry': '03-08-2023', 'inStock': False, 'offer': 18}\n",
            "1005  =  {'item': 'Kitkat', 'Category': 'Chocolate', 'price': 25, 'date-of-manufacture': '29-08-2021', 'date-of-expiry': '03-08-2022', 'inStock': True, 'offer': 15}\n",
            "1006  =  {'item': 'Maggi', 'Category': 'Instant Noodle', 'price': 12, 'date-of-manufacture': '20-08-2021', 'date-of-expiry': '03-08-2022', 'inStock': True, 'offer': 0}\n",
            "1007  =  {'item': 'Butter', 'Category': 'Dairy', 'price': 50, 'date-of-manufacture': '31-08-2021', 'date-of-expiry': '03-10-2021', 'inStock': True, 'offer': 10}\n",
            "1008  =  {'item': 'Deodrant', 'Category': 'Perfumes', 'price': 250, 'date-of-manufacture': '15-08-2021', 'date-of-expiry': '03-08-2022', 'inStock': True, 'offer': 18}\n",
            "1009  =  {'item': 'Harpic', 'Category': 'Detergents', 'price': 99, 'date-of-manufacture': '05-08-2021', 'date-of-expiry': '03-08-2024', 'inStock': True, 'offer': 33}\n",
            "10010  =  {'item': 'Dettol', 'Category': 'Medical', 'price': 80, 'date-of-manufacture': '24-08-2021', 'date-of-expiry': '03-08-2022', 'inStock': True, 'offer': 0}\n",
            "10011  =  {'item': 'Eggs', 'Category': 'Animal Product', 'price': 60, 'date-of-manufacture': '30-08-2021', 'date-of-expiry': '03-10-2021', 'inStock': True, 'offer': 0}\n",
            "10012  =  {'item': 'Pizza', 'Category': 'Fast Food', 'price': 180, 'date-of-manufacture': '02-09-2021', 'date-of-expiry': '03-10-2021', 'inStock': True, 'offer': 20}\n",
            "10013  =  {'item': 'Wet wipes', 'Category': 'cleaning-accessories', 'price': 185, 'date-of-manufacture': '20-08-2021', 'date-of-expiry': '03-08-2023', 'inStock': False, 'offer': 20}\n",
            "10014  =  {'item': 'Pepper', 'Category': 'cereals', 'price': 80, 'date-of-manufacture': '31-08-2021', 'date-of-expiry': '03-08-2024', 'inStock': True, 'offer': 0}\n",
            "10015  =  {'item': 'Cookies', 'Category': 'Bakery-item', 'price': 30, 'date-of-manufacture': '17-08-2021', 'date-of-expiry': '03-08-2022', 'inStock': True, 'offer': 5}\n",
            "10016  =  {'item': 'Shampoo', 'Category': 'Toiletries', 'price': 58, 'date-of-manufacture': '07-08-2021', 'date-of-expiry': '03-08-2024', 'inStock': True, 'offer': 15}\n",
            "10017  =  {'item': 'Tooth Paste', 'Category': 'Toiletries', 'price': 55, 'date-of-manufacture': '05-06-2021', 'date-of-expiry': '03-08-2023', 'inStock': True, 'offer': 23}\n",
            "10018  =  {'item': 'Badam', 'Category': 'Dry-Fruits', 'price': 60, 'date-of-manufacture': '24-05-2021', 'date-of-expiry': '03-08-2025', 'inStock': True, 'offer': 30}\n",
            "10019  =  {'item': 'Face cream', 'Category': 'Cosmetic', 'price': 320, 'date-of-manufacture': '06-08-2021', 'date-of-expiry': '03-08-2022', 'inStock': True, 'offer': 15}\n",
            "10020  =  {'item': 'Pedigree', 'Category': 'Pet-Foods', 'price': 680, 'date-of-manufacture': '08-04-2021', 'date-of-expiry': '03-10-2021', 'inStock': False, 'offer': 35}\n",
            "10021  =  {'item': 'Cheese Slice', 'Category': 'Dairy', 'price': 60, 'date-of-manufacture': '01-09-2021', 'date-of-expiry': '03-10-2021', 'inStock': True, 'offer': 0}\n",
            "10022  =  {'item': 'pan-Cakes', 'Category': 'Bakery', 'price': 55, 'date-of-manufacture': '29-08-2021', 'date-of-expiry': '03-08-2022', 'inStock': True, 'offer': 20}\n",
            "10023  =  {'item': 'Durito', 'Category': 'chocolate', 'price': 20, 'date-of-manufacture': '27-08-2021', 'date-of-expiry': '03-08-2022', 'inStock': True, 'offer': 0}\n",
            "10024  =  {'item': 'Coffee Powder', 'Category': 'energetic-drinks', 'price': 56, 'date-of-manufacture': '24-07-2021', 'date-of-expiry': '03-08-2024', 'inStock': True, 'offer': 18}\n",
            "10025  =  {'item': 'Mayo', 'Category': 'Dairy-Product', 'price': 30, 'date-of-manufacture': '24-02-2021', 'date-of-expiry': '03-08-2022', 'inStock': True, 'offer': 0}\n",
            "10026  =  {'item': 'Nuttela', 'Category': 'Protein-Bar', 'price': 1200, 'date-of-manufacture': '25-08-2021', 'date-of-expiry': '03-08-2022', 'inStock': True, 'offer': 0}\n",
            "10027  =  {'item': 'Mop', 'Category': 'Cleaning-essentials', 'price': 360, 'date-of-manufacture': '24-07-2021', 'date-of-expiry': '03-08-2022', 'inStock': True, 'offer': 0}\n",
            "10028  =  {'item': 'Domex', 'Category': 'Datergents', 'price': 300, 'date-of-manufacture': '20-08-2021', 'date-of-expiry': '03-08-2023', 'inStock': True, 'offer': 13}\n",
            "10029  =  {'item': 'Alovera Gell', 'Category': 'Cosmetic', 'price': 90, 'date-of-manufacture': '30-07-2021', 'date-of-expiry': '03-08-2022', 'inStock': True, 'offer': 15}\n",
            "10030  =  {'item': 'Wipping Cream', 'Category': 'Dairy-Product', 'price': 1200, 'date-of-manufacture': '24-02-2021', 'date-of-expiry': '03-08-2021', 'inStock': True, 'offer': 20}\n"
          ]
        }
      ]
    },
    {
      "cell_type": "code",
      "metadata": {
        "id": "I6jPRiom8GQZ"
      },
      "source": [
        "import json"
      ],
      "execution_count": 6,
      "outputs": []
    },
    {
      "cell_type": "code",
      "metadata": {
        "id": "Q-xB-aR88KCe"
      },
      "source": [
        "js=json.dumps(record)"
      ],
      "execution_count": 9,
      "outputs": []
    },
    {
      "cell_type": "code",
      "metadata": {
        "colab": {
          "base_uri": "https://localhost:8080/",
          "height": 137
        },
        "id": "8c6JgUG08QZy",
        "outputId": "beab37af-a422-4d98-81ef-12d0233c7a8e"
      },
      "source": [
        "js"
      ],
      "execution_count": 10,
      "outputs": [
        {
          "output_type": "execute_result",
          "data": {
            "application/vnd.google.colaboratory.intrinsic+json": {
              "type": "string"
            },
            "text/plain": [
              "'{\"1001\": {\"item\": \"Pears\", \"Category\": \"Soap\", \"price\": 30, \"date-of-manufacture\": \"03-08-2021\", \"date-of-expiry\": \"03-08-2023\", \"inStock\": true, \"offer\": 10}, \"1002\": {\"item\": \"Maida\", \"Category\": \"groceries\", \"price\": 90, \"date-of-manufacture\": \"06-07-2021\", \"date-of-expiry\": \"03-08-2023\", \"inStock\": true, \"offer\": 0}, \"1003\": {\"item\": \"Bread\", \"Category\": \"\", \"Grain Product\": 15, \"date-of-manufacture\": \"01-09-2021\", \"date-of-expiry\": \"03-08-2023\", \"inStock\": true, \"offer\": 20}, \"1004\": {\"item\": \"Milk\", \"Category\": \"Dairy\", \"price\": 30, \"date-of-manufacture\": \"03-09-2021\", \"date-of-expiry\": \"03-08-2023\", \"inStock\": false, \"offer\": 18}, \"1005\": {\"item\": \"Kitkat\", \"Category\": \"Chocolate\", \"price\": 25, \"date-of-manufacture\": \"29-08-2021\", \"date-of-expiry\": \"03-08-2022\", \"inStock\": true, \"offer\": 15}, \"1006\": {\"item\": \"Maggi\", \"Category\": \"Instant Noodle\", \"price\": 12, \"date-of-manufacture\": \"20-08-2021\", \"date-of-expiry\": \"03-08-2022\", \"inStock\": true, \"offer\": 0}, \"1007\": {\"item\": \"Butter\", \"Category\": \"Dairy\", \"price\": 50, \"date-of-manufacture\": \"31-08-2021\", \"date-of-expiry\": \"03-10-2021\", \"inStock\": true, \"offer\": 10}, \"1008\": {\"item\": \"Deodrant\", \"Category\": \"Perfumes\", \"price\": 250, \"date-of-manufacture\": \"15-08-2021\", \"date-of-expiry\": \"03-08-2022\", \"inStock\": true, \"offer\": 18}, \"1009\": {\"item\": \"Harpic\", \"Category\": \"Detergents\", \"price\": 99, \"date-of-manufacture\": \"05-08-2021\", \"date-of-expiry\": \"03-08-2024\", \"inStock\": true, \"offer\": 33}, \"10010\": {\"item\": \"Dettol\", \"Category\": \"Medical\", \"price\": 80, \"date-of-manufacture\": \"24-08-2021\", \"date-of-expiry\": \"03-08-2022\", \"inStock\": true, \"offer\": 0}, \"10011\": {\"item\": \"Eggs\", \"Category\": \"Animal Product\", \"price\": 60, \"date-of-manufacture\": \"30-08-2021\", \"date-of-expiry\": \"03-10-2021\", \"inStock\": true, \"offer\": 0}, \"10012\": {\"item\": \"Pizza\", \"Category\": \"Fast Food\", \"price\": 180, \"date-of-manufacture\": \"02-09-2021\", \"date-of-expiry\": \"03-10-2021\", \"inStock\": true, \"offer\": 20}, \"10013\": {\"item\": \"Wet wipes\", \"Category\": \"cleaning-accessories\", \"price\": 185, \"date-of-manufacture\": \"20-08-2021\", \"date-of-expiry\": \"03-08-2023\", \"inStock\": false, \"offer\": 20}, \"10014\": {\"item\": \"Pepper\", \"Category\": \"cereals\", \"price\": 80, \"date-of-manufacture\": \"31-08-2021\", \"date-of-expiry\": \"03-08-2024\", \"inStock\": true, \"offer\": 0}, \"10015\": {\"item\": \"Cookies\", \"Category\": \"Bakery-item\", \"price\": 30, \"date-of-manufacture\": \"17-08-2021\", \"date-of-expiry\": \"03-08-2022\", \"inStock\": true, \"offer\": 5}, \"10016\": {\"item\": \"Shampoo\", \"Category\": \"Toiletries\", \"price\": 58, \"date-of-manufacture\": \"07-08-2021\", \"date-of-expiry\": \"03-08-2024\", \"inStock\": true, \"offer\": 15}, \"10017\": {\"item\": \"Tooth Paste\", \"Category\": \"Toiletries\", \"price\": 55, \"date-of-manufacture\": \"05-06-2021\", \"date-of-expiry\": \"03-08-2023\", \"inStock\": true, \"offer\": 23}, \"10018\": {\"item\": \"Badam\", \"Category\": \"Dry-Fruits\", \"price\": 60, \"date-of-manufacture\": \"24-05-2021\", \"date-of-expiry\": \"03-08-2025\", \"inStock\": true, \"offer\": 30}, \"10019\": {\"item\": \"Face cream\", \"Category\": \"Cosmetic\", \"price\": 320, \"date-of-manufacture\": \"06-08-2021\", \"date-of-expiry\": \"03-08-2022\", \"inStock\": true, \"offer\": 15}, \"10020\": {\"item\": \"Pedigree\", \"Category\": \"Pet-Foods\", \"price\": 680, \"date-of-manufacture\": \"08-04-2021\", \"date-of-expiry\": \"03-10-2021\", \"inStock\": false, \"offer\": 35}, \"10021\": {\"item\": \"Cheese Slice\", \"Category\": \"Dairy\", \"price\": 60, \"date-of-manufacture\": \"01-09-2021\", \"date-of-expiry\": \"03-10-2021\", \"inStock\": true, \"offer\": 0}, \"10022\": {\"item\": \"pan-Cakes\", \"Category\": \"Bakery\", \"price\": 55, \"date-of-manufacture\": \"29-08-2021\", \"date-of-expiry\": \"03-08-2022\", \"inStock\": true, \"offer\": 20}, \"10023\": {\"item\": \"Durito\", \"Category\": \"chocolate\", \"price\": 20, \"date-of-manufacture\": \"27-08-2021\", \"date-of-expiry\": \"03-08-2022\", \"inStock\": true, \"offer\": 0}, \"10024\": {\"item\": \"Coffee Powder\", \"Category\": \"energetic-drinks\", \"price\": 56, \"date-of-manufacture\": \"24-07-2021\", \"date-of-expiry\": \"03-08-2024\", \"inStock\": true, \"offer\": 18}, \"10025\": {\"item\": \"Mayo\", \"Category\": \"Dairy-Product\", \"price\": 30, \"date-of-manufacture\": \"24-02-2021\", \"date-of-expiry\": \"03-08-2022\", \"inStock\": true, \"offer\": 0}, \"10026\": {\"item\": \"Nuttela\", \"Category\": \"Protein-Bar\", \"price\": 1200, \"date-of-manufacture\": \"25-08-2021\", \"date-of-expiry\": \"03-08-2022\", \"inStock\": true, \"offer\": 0}, \"10027\": {\"item\": \"Mop\", \"Category\": \"Cleaning-essentials\", \"price\": 360, \"date-of-manufacture\": \"24-07-2021\", \"date-of-expiry\": \"03-08-2022\", \"inStock\": true, \"offer\": 0}, \"10028\": {\"item\": \"Domex\", \"Category\": \"Datergents\", \"price\": 300, \"date-of-manufacture\": \"20-08-2021\", \"date-of-expiry\": \"03-08-2023\", \"inStock\": true, \"offer\": 13}, \"10029\": {\"item\": \"Alovera Gell\", \"Category\": \"Cosmetic\", \"price\": 90, \"date-of-manufacture\": \"30-07-2021\", \"date-of-expiry\": \"03-08-2022\", \"inStock\": true, \"offer\": 15}, \"10030\": {\"item\": \"Wipping Cream\", \"Category\": \"Dairy-Product\", \"price\": 1200, \"date-of-manufacture\": \"24-02-2021\", \"date-of-expiry\": \"03-08-2021\", \"inStock\": true, \"offer\": 20}}'"
            ]
          },
          "metadata": {},
          "execution_count": 10
        }
      ]
    },
    {
      "cell_type": "code",
      "metadata": {
        "id": "VF9iygMs8oCr"
      },
      "source": [
        "daily_count = 0\n",
        "fd = open(\"record.json\",\"w\")\n",
        "fd.write(js)\n",
        "fd.close()"
      ],
      "execution_count": 11,
      "outputs": []
    },
    {
      "cell_type": "code",
      "metadata": {
        "id": "0dgJew1_8v64"
      },
      "source": [
        "fd = open(\"record.json\",\"r\")\n",
        "txt = fd.read()\n",
        "fd.close()"
      ],
      "execution_count": 12,
      "outputs": []
    },
    {
      "cell_type": "code",
      "metadata": {
        "colab": {
          "base_uri": "https://localhost:8080/",
          "height": 137
        },
        "id": "Q_XOosGT80X3",
        "outputId": "c0ac2aee-e7cf-44f1-87b3-61e7ef01bf55"
      },
      "source": [
        "txt"
      ],
      "execution_count": 14,
      "outputs": [
        {
          "output_type": "execute_result",
          "data": {
            "application/vnd.google.colaboratory.intrinsic+json": {
              "type": "string"
            },
            "text/plain": [
              "'{\"1001\": {\"item\": \"Pears\", \"Category\": \"Soap\", \"price\": 30, \"date-of-manufacture\": \"03-08-2021\", \"date-of-expiry\": \"03-08-2023\", \"inStock\": true, \"offer\": 10}, \"1002\": {\"item\": \"Maida\", \"Category\": \"groceries\", \"price\": 90, \"date-of-manufacture\": \"06-07-2021\", \"date-of-expiry\": \"03-08-2023\", \"inStock\": true, \"offer\": 0}, \"1003\": {\"item\": \"Bread\", \"Category\": \"\", \"Grain Product\": 15, \"date-of-manufacture\": \"01-09-2021\", \"date-of-expiry\": \"03-08-2023\", \"inStock\": true, \"offer\": 20}, \"1004\": {\"item\": \"Milk\", \"Category\": \"Dairy\", \"price\": 30, \"date-of-manufacture\": \"03-09-2021\", \"date-of-expiry\": \"03-08-2023\", \"inStock\": false, \"offer\": 18}, \"1005\": {\"item\": \"Kitkat\", \"Category\": \"Chocolate\", \"price\": 25, \"date-of-manufacture\": \"29-08-2021\", \"date-of-expiry\": \"03-08-2022\", \"inStock\": true, \"offer\": 15}, \"1006\": {\"item\": \"Maggi\", \"Category\": \"Instant Noodle\", \"price\": 12, \"date-of-manufacture\": \"20-08-2021\", \"date-of-expiry\": \"03-08-2022\", \"inStock\": true, \"offer\": 0}, \"1007\": {\"item\": \"Butter\", \"Category\": \"Dairy\", \"price\": 50, \"date-of-manufacture\": \"31-08-2021\", \"date-of-expiry\": \"03-10-2021\", \"inStock\": true, \"offer\": 10}, \"1008\": {\"item\": \"Deodrant\", \"Category\": \"Perfumes\", \"price\": 250, \"date-of-manufacture\": \"15-08-2021\", \"date-of-expiry\": \"03-08-2022\", \"inStock\": true, \"offer\": 18}, \"1009\": {\"item\": \"Harpic\", \"Category\": \"Detergents\", \"price\": 99, \"date-of-manufacture\": \"05-08-2021\", \"date-of-expiry\": \"03-08-2024\", \"inStock\": true, \"offer\": 33}, \"10010\": {\"item\": \"Dettol\", \"Category\": \"Medical\", \"price\": 80, \"date-of-manufacture\": \"24-08-2021\", \"date-of-expiry\": \"03-08-2022\", \"inStock\": true, \"offer\": 0}, \"10011\": {\"item\": \"Eggs\", \"Category\": \"Animal Product\", \"price\": 60, \"date-of-manufacture\": \"30-08-2021\", \"date-of-expiry\": \"03-10-2021\", \"inStock\": true, \"offer\": 0}, \"10012\": {\"item\": \"Pizza\", \"Category\": \"Fast Food\", \"price\": 180, \"date-of-manufacture\": \"02-09-2021\", \"date-of-expiry\": \"03-10-2021\", \"inStock\": true, \"offer\": 20}, \"10013\": {\"item\": \"Wet wipes\", \"Category\": \"cleaning-accessories\", \"price\": 185, \"date-of-manufacture\": \"20-08-2021\", \"date-of-expiry\": \"03-08-2023\", \"inStock\": false, \"offer\": 20}, \"10014\": {\"item\": \"Pepper\", \"Category\": \"cereals\", \"price\": 80, \"date-of-manufacture\": \"31-08-2021\", \"date-of-expiry\": \"03-08-2024\", \"inStock\": true, \"offer\": 0}, \"10015\": {\"item\": \"Cookies\", \"Category\": \"Bakery-item\", \"price\": 30, \"date-of-manufacture\": \"17-08-2021\", \"date-of-expiry\": \"03-08-2022\", \"inStock\": true, \"offer\": 5}, \"10016\": {\"item\": \"Shampoo\", \"Category\": \"Toiletries\", \"price\": 58, \"date-of-manufacture\": \"07-08-2021\", \"date-of-expiry\": \"03-08-2024\", \"inStock\": true, \"offer\": 15}, \"10017\": {\"item\": \"Tooth Paste\", \"Category\": \"Toiletries\", \"price\": 55, \"date-of-manufacture\": \"05-06-2021\", \"date-of-expiry\": \"03-08-2023\", \"inStock\": true, \"offer\": 23}, \"10018\": {\"item\": \"Badam\", \"Category\": \"Dry-Fruits\", \"price\": 60, \"date-of-manufacture\": \"24-05-2021\", \"date-of-expiry\": \"03-08-2025\", \"inStock\": true, \"offer\": 30}, \"10019\": {\"item\": \"Face cream\", \"Category\": \"Cosmetic\", \"price\": 320, \"date-of-manufacture\": \"06-08-2021\", \"date-of-expiry\": \"03-08-2022\", \"inStock\": true, \"offer\": 15}, \"10020\": {\"item\": \"Pedigree\", \"Category\": \"Pet-Foods\", \"price\": 680, \"date-of-manufacture\": \"08-04-2021\", \"date-of-expiry\": \"03-10-2021\", \"inStock\": false, \"offer\": 35}, \"10021\": {\"item\": \"Cheese Slice\", \"Category\": \"Dairy\", \"price\": 60, \"date-of-manufacture\": \"01-09-2021\", \"date-of-expiry\": \"03-10-2021\", \"inStock\": true, \"offer\": 0}, \"10022\": {\"item\": \"pan-Cakes\", \"Category\": \"Bakery\", \"price\": 55, \"date-of-manufacture\": \"29-08-2021\", \"date-of-expiry\": \"03-08-2022\", \"inStock\": true, \"offer\": 20}, \"10023\": {\"item\": \"Durito\", \"Category\": \"chocolate\", \"price\": 20, \"date-of-manufacture\": \"27-08-2021\", \"date-of-expiry\": \"03-08-2022\", \"inStock\": true, \"offer\": 0}, \"10024\": {\"item\": \"Coffee Powder\", \"Category\": \"energetic-drinks\", \"price\": 56, \"date-of-manufacture\": \"24-07-2021\", \"date-of-expiry\": \"03-08-2024\", \"inStock\": true, \"offer\": 18}, \"10025\": {\"item\": \"Mayo\", \"Category\": \"Dairy-Product\", \"price\": 30, \"date-of-manufacture\": \"24-02-2021\", \"date-of-expiry\": \"03-08-2022\", \"inStock\": true, \"offer\": 0}, \"10026\": {\"item\": \"Nuttela\", \"Category\": \"Protein-Bar\", \"price\": 1200, \"date-of-manufacture\": \"25-08-2021\", \"date-of-expiry\": \"03-08-2022\", \"inStock\": true, \"offer\": 0}, \"10027\": {\"item\": \"Mop\", \"Category\": \"Cleaning-essentials\", \"price\": 360, \"date-of-manufacture\": \"24-07-2021\", \"date-of-expiry\": \"03-08-2022\", \"inStock\": true, \"offer\": 0}, \"10028\": {\"item\": \"Domex\", \"Category\": \"Datergents\", \"price\": 300, \"date-of-manufacture\": \"20-08-2021\", \"date-of-expiry\": \"03-08-2023\", \"inStock\": true, \"offer\": 13}, \"10029\": {\"item\": \"Alovera Gell\", \"Category\": \"Cosmetic\", \"price\": 90, \"date-of-manufacture\": \"30-07-2021\", \"date-of-expiry\": \"03-08-2022\", \"inStock\": true, \"offer\": 15}, \"10030\": {\"item\": \"Wipping Cream\", \"Category\": \"Dairy-Product\", \"price\": 1200, \"date-of-manufacture\": \"24-02-2021\", \"date-of-expiry\": \"03-08-2021\", \"inStock\": true, \"offer\": 20}}'"
            ]
          },
          "metadata": {},
          "execution_count": 14
        }
      ]
    },
    {
      "cell_type": "markdown",
      "metadata": {
        "id": "6yY2kdu39HZE"
      },
      "source": [
        "JSON TO DICTIONARY"
      ]
    },
    {
      "cell_type": "code",
      "metadata": {
        "id": "56nsDs3t_DOl"
      },
      "source": [
        "js_to_dict = json.loads(txt)"
      ],
      "execution_count": 15,
      "outputs": []
    },
    {
      "cell_type": "code",
      "metadata": {
        "id": "QPl2Unii9V6P",
        "outputId": "9236ba61-1a65-4a07-b121-864a6d334f0d",
        "colab": {
          "base_uri": "https://localhost:8080/"
        }
      },
      "source": [
        "js_to_dict"
      ],
      "execution_count": 16,
      "outputs": [
        {
          "output_type": "execute_result",
          "data": {
            "text/plain": [
              "{'1001': {'Category': 'Soap',\n",
              "  'date-of-expiry': '03-08-2023',\n",
              "  'date-of-manufacture': '03-08-2021',\n",
              "  'inStock': True,\n",
              "  'item': 'Pears',\n",
              "  'offer': 10,\n",
              "  'price': 30},\n",
              " '10010': {'Category': 'Medical',\n",
              "  'date-of-expiry': '03-08-2022',\n",
              "  'date-of-manufacture': '24-08-2021',\n",
              "  'inStock': True,\n",
              "  'item': 'Dettol',\n",
              "  'offer': 0,\n",
              "  'price': 80},\n",
              " '10011': {'Category': 'Animal Product',\n",
              "  'date-of-expiry': '03-10-2021',\n",
              "  'date-of-manufacture': '30-08-2021',\n",
              "  'inStock': True,\n",
              "  'item': 'Eggs',\n",
              "  'offer': 0,\n",
              "  'price': 60},\n",
              " '10012': {'Category': 'Fast Food',\n",
              "  'date-of-expiry': '03-10-2021',\n",
              "  'date-of-manufacture': '02-09-2021',\n",
              "  'inStock': True,\n",
              "  'item': 'Pizza',\n",
              "  'offer': 20,\n",
              "  'price': 180},\n",
              " '10013': {'Category': 'cleaning-accessories',\n",
              "  'date-of-expiry': '03-08-2023',\n",
              "  'date-of-manufacture': '20-08-2021',\n",
              "  'inStock': False,\n",
              "  'item': 'Wet wipes',\n",
              "  'offer': 20,\n",
              "  'price': 185},\n",
              " '10014': {'Category': 'cereals',\n",
              "  'date-of-expiry': '03-08-2024',\n",
              "  'date-of-manufacture': '31-08-2021',\n",
              "  'inStock': True,\n",
              "  'item': 'Pepper',\n",
              "  'offer': 0,\n",
              "  'price': 80},\n",
              " '10015': {'Category': 'Bakery-item',\n",
              "  'date-of-expiry': '03-08-2022',\n",
              "  'date-of-manufacture': '17-08-2021',\n",
              "  'inStock': True,\n",
              "  'item': 'Cookies',\n",
              "  'offer': 5,\n",
              "  'price': 30},\n",
              " '10016': {'Category': 'Toiletries',\n",
              "  'date-of-expiry': '03-08-2024',\n",
              "  'date-of-manufacture': '07-08-2021',\n",
              "  'inStock': True,\n",
              "  'item': 'Shampoo',\n",
              "  'offer': 15,\n",
              "  'price': 58},\n",
              " '10017': {'Category': 'Toiletries',\n",
              "  'date-of-expiry': '03-08-2023',\n",
              "  'date-of-manufacture': '05-06-2021',\n",
              "  'inStock': True,\n",
              "  'item': 'Tooth Paste',\n",
              "  'offer': 23,\n",
              "  'price': 55},\n",
              " '10018': {'Category': 'Dry-Fruits',\n",
              "  'date-of-expiry': '03-08-2025',\n",
              "  'date-of-manufacture': '24-05-2021',\n",
              "  'inStock': True,\n",
              "  'item': 'Badam',\n",
              "  'offer': 30,\n",
              "  'price': 60},\n",
              " '10019': {'Category': 'Cosmetic',\n",
              "  'date-of-expiry': '03-08-2022',\n",
              "  'date-of-manufacture': '06-08-2021',\n",
              "  'inStock': True,\n",
              "  'item': 'Face cream',\n",
              "  'offer': 15,\n",
              "  'price': 320},\n",
              " '1002': {'Category': 'groceries',\n",
              "  'date-of-expiry': '03-08-2023',\n",
              "  'date-of-manufacture': '06-07-2021',\n",
              "  'inStock': True,\n",
              "  'item': 'Maida',\n",
              "  'offer': 0,\n",
              "  'price': 90},\n",
              " '10020': {'Category': 'Pet-Foods',\n",
              "  'date-of-expiry': '03-10-2021',\n",
              "  'date-of-manufacture': '08-04-2021',\n",
              "  'inStock': False,\n",
              "  'item': 'Pedigree',\n",
              "  'offer': 35,\n",
              "  'price': 680},\n",
              " '10021': {'Category': 'Dairy',\n",
              "  'date-of-expiry': '03-10-2021',\n",
              "  'date-of-manufacture': '01-09-2021',\n",
              "  'inStock': True,\n",
              "  'item': 'Cheese Slice',\n",
              "  'offer': 0,\n",
              "  'price': 60},\n",
              " '10022': {'Category': 'Bakery',\n",
              "  'date-of-expiry': '03-08-2022',\n",
              "  'date-of-manufacture': '29-08-2021',\n",
              "  'inStock': True,\n",
              "  'item': 'pan-Cakes',\n",
              "  'offer': 20,\n",
              "  'price': 55},\n",
              " '10023': {'Category': 'chocolate',\n",
              "  'date-of-expiry': '03-08-2022',\n",
              "  'date-of-manufacture': '27-08-2021',\n",
              "  'inStock': True,\n",
              "  'item': 'Durito',\n",
              "  'offer': 0,\n",
              "  'price': 20},\n",
              " '10024': {'Category': 'energetic-drinks',\n",
              "  'date-of-expiry': '03-08-2024',\n",
              "  'date-of-manufacture': '24-07-2021',\n",
              "  'inStock': True,\n",
              "  'item': 'Coffee Powder',\n",
              "  'offer': 18,\n",
              "  'price': 56},\n",
              " '10025': {'Category': 'Dairy-Product',\n",
              "  'date-of-expiry': '03-08-2022',\n",
              "  'date-of-manufacture': '24-02-2021',\n",
              "  'inStock': True,\n",
              "  'item': 'Mayo',\n",
              "  'offer': 0,\n",
              "  'price': 30},\n",
              " '10026': {'Category': 'Protein-Bar',\n",
              "  'date-of-expiry': '03-08-2022',\n",
              "  'date-of-manufacture': '25-08-2021',\n",
              "  'inStock': True,\n",
              "  'item': 'Nuttela',\n",
              "  'offer': 0,\n",
              "  'price': 1200},\n",
              " '10027': {'Category': 'Cleaning-essentials',\n",
              "  'date-of-expiry': '03-08-2022',\n",
              "  'date-of-manufacture': '24-07-2021',\n",
              "  'inStock': True,\n",
              "  'item': 'Mop',\n",
              "  'offer': 0,\n",
              "  'price': 360},\n",
              " '10028': {'Category': 'Datergents',\n",
              "  'date-of-expiry': '03-08-2023',\n",
              "  'date-of-manufacture': '20-08-2021',\n",
              "  'inStock': True,\n",
              "  'item': 'Domex',\n",
              "  'offer': 13,\n",
              "  'price': 300},\n",
              " '10029': {'Category': 'Cosmetic',\n",
              "  'date-of-expiry': '03-08-2022',\n",
              "  'date-of-manufacture': '30-07-2021',\n",
              "  'inStock': True,\n",
              "  'item': 'Alovera Gell',\n",
              "  'offer': 15,\n",
              "  'price': 90},\n",
              " '1003': {'Category': '',\n",
              "  'Grain Product': 15,\n",
              "  'date-of-expiry': '03-08-2023',\n",
              "  'date-of-manufacture': '01-09-2021',\n",
              "  'inStock': True,\n",
              "  'item': 'Bread',\n",
              "  'offer': 20},\n",
              " '10030': {'Category': 'Dairy-Product',\n",
              "  'date-of-expiry': '03-08-2021',\n",
              "  'date-of-manufacture': '24-02-2021',\n",
              "  'inStock': True,\n",
              "  'item': 'Wipping Cream',\n",
              "  'offer': 20,\n",
              "  'price': 1200},\n",
              " '1004': {'Category': 'Dairy',\n",
              "  'date-of-expiry': '03-08-2023',\n",
              "  'date-of-manufacture': '03-09-2021',\n",
              "  'inStock': False,\n",
              "  'item': 'Milk',\n",
              "  'offer': 18,\n",
              "  'price': 30},\n",
              " '1005': {'Category': 'Chocolate',\n",
              "  'date-of-expiry': '03-08-2022',\n",
              "  'date-of-manufacture': '29-08-2021',\n",
              "  'inStock': True,\n",
              "  'item': 'Kitkat',\n",
              "  'offer': 15,\n",
              "  'price': 25},\n",
              " '1006': {'Category': 'Instant Noodle',\n",
              "  'date-of-expiry': '03-08-2022',\n",
              "  'date-of-manufacture': '20-08-2021',\n",
              "  'inStock': True,\n",
              "  'item': 'Maggi',\n",
              "  'offer': 0,\n",
              "  'price': 12},\n",
              " '1007': {'Category': 'Dairy',\n",
              "  'date-of-expiry': '03-10-2021',\n",
              "  'date-of-manufacture': '31-08-2021',\n",
              "  'inStock': True,\n",
              "  'item': 'Butter',\n",
              "  'offer': 10,\n",
              "  'price': 50},\n",
              " '1008': {'Category': 'Perfumes',\n",
              "  'date-of-expiry': '03-08-2022',\n",
              "  'date-of-manufacture': '15-08-2021',\n",
              "  'inStock': True,\n",
              "  'item': 'Deodrant',\n",
              "  'offer': 18,\n",
              "  'price': 250},\n",
              " '1009': {'Category': 'Detergents',\n",
              "  'date-of-expiry': '03-08-2024',\n",
              "  'date-of-manufacture': '05-08-2021',\n",
              "  'inStock': True,\n",
              "  'item': 'Harpic',\n",
              "  'offer': 33,\n",
              "  'price': 99}}"
            ]
          },
          "metadata": {},
          "execution_count": 16
        }
      ]
    },
    {
      "cell_type": "code",
      "metadata": {
        "id": "ReagJBTD9ZtP",
        "outputId": "42b4a4d0-f060-4ad0-df01-ac9b909818d7",
        "colab": {
          "base_uri": "https://localhost:8080/"
        }
      },
      "source": [
        "type(js_to_dict)"
      ],
      "execution_count": 17,
      "outputs": [
        {
          "output_type": "execute_result",
          "data": {
            "text/plain": [
              "dict"
            ]
          },
          "metadata": {},
          "execution_count": 17
        }
      ]
    },
    {
      "cell_type": "markdown",
      "metadata": {
        "id": "x5kioZ6y9uq5"
      },
      "source": [
        "**INVENTORY MANAGEMNT SYSTEM**"
      ]
    },
    {
      "cell_type": "code",
      "metadata": {
        "id": "YcraYvhs94uU",
        "outputId": "1a40cd79-8776-43e1-a35a-f2cc80a91d58",
        "colab": {
          "base_uri": "https://localhost:8080/"
        }
      },
      "source": [
        "print(\"Welcome to SUPER MARKET\")\n"
      ],
      "execution_count": 18,
      "outputs": [
        {
          "output_type": "stream",
          "name": "stdout",
          "text": [
            "Welcome to SUPER MARKET\n"
          ]
        }
      ]
    },
    {
      "cell_type": "code",
      "metadata": {
        "id": "Nr-PiQg498GV",
        "outputId": "f1053e4b-d068-410c-fa96-9ecdf76f81d9",
        "colab": {
          "base_uri": "https://localhost:8080/"
        }
      },
      "source": [
        "f = open(\"sales.json\",\"a\")\n",
        "will_buy = True\n",
        "print(\"Happy Shopping\")\n",
        "while will_buy:\n",
        "  n = int(input(\"Dear Customer, Please Enter Unique Id of the product that you want to buy: \"))\n",
        "  q = int(input(\"Dear Customer, Enter the quantity of the product: \"))\n",
        "  daily_count += q\n",
        "  f.write(str(record[n])+\"\\nTotal Price = \"+str(record[n][\"price\"]*q))\n",
        "  print(\"Dear Customer, Press 1 to continue else press any key to quit\")\n",
        "  n = input(\"Dear Customer, Enter your option: \")\n",
        "  will_buy = True if n == '1'  else False\n",
        "\n",
        "f.write(\"\\nProducts saled upto now = \"+str(daily_count)+\"\\n\")\n",
        "f.close()"
      ],
      "execution_count": 19,
      "outputs": [
        {
          "name": "stdout",
          "output_type": "stream",
          "text": [
            "Happy Shopping\n",
            "Dear Customer, Please Enter Unique Id of the product that you want to buy: 1005\n",
            "Dear Customer, Enter the quantity of the product: 4\n",
            "Dear Customer, Press 1 to continue else press any key to quit\n",
            "Dear Customer, Enter your option: 33\n"
          ]
        }
      ]
    },
    {
      "cell_type": "code",
      "metadata": {
        "id": "ZbyrIX1U-gs9"
      },
      "source": [
        "f = open(\"sales.json\",\"r\")\n",
        "text = f.read()\n",
        "f.close()"
      ],
      "execution_count": 20,
      "outputs": []
    },
    {
      "cell_type": "code",
      "metadata": {
        "id": "IjCaYWfJ-zQ1",
        "outputId": "67c50fd4-82c6-4bf4-a751-19dbd1498676",
        "colab": {
          "base_uri": "https://localhost:8080/",
          "height": 52
        }
      },
      "source": [
        "text"
      ],
      "execution_count": 21,
      "outputs": [
        {
          "output_type": "execute_result",
          "data": {
            "application/vnd.google.colaboratory.intrinsic+json": {
              "type": "string"
            },
            "text/plain": [
              "\"{'item': 'Kitkat', 'Category': 'Chocolate', 'price': 25, 'date-of-manufacture': '29-08-2021', 'date-of-expiry': '03-08-2022', 'inStock': True, 'offer': 15}\\nTotal Price = 100\\nProducts saled upto now = 4\\n\""
            ]
          },
          "metadata": {},
          "execution_count": 21
        }
      ]
    },
    {
      "cell_type": "code",
      "metadata": {
        "id": "0BeBfG8f-17a"
      },
      "source": [
        ""
      ],
      "execution_count": null,
      "outputs": []
    }
  ]
}